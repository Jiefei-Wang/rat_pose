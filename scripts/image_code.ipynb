{
 "cells": [
  {
   "cell_type": "code",
   "execution_count": null,
   "id": "b5d17a50",
   "metadata": {},
   "outputs": [],
   "source": [
    "video_root =  r\"C:\\Users\\jiefei\\OneDrive1\\OneDrive\\UTMB\\teaching\\summer institute\\student projects\\2025\\Tom\\Green_Project_files\\video\""
   ]
  },
  {
   "cell_type": "markdown",
   "id": "0bbc8946",
   "metadata": {},
   "source": [
    "# Image Preprocessing"
   ]
  },
  {
   "cell_type": "code",
   "execution_count": null,
   "id": "04e184c8",
   "metadata": {},
   "outputs": [],
   "source": [
    "import cv2\n",
    "import numpy as np\n",
    "import albumentations as A\n",
    "import os\n",
    "from modules.image_utils import get_image_from_video, show_image, save_image\n",
    "\n",
    "\n",
    "# Define multiple augmentations\n",
    "transform = A.Compose([\n",
    "    # Compression step\n",
    "    A.ImageCompression(quality_range=(50, 90), compression_type=\"jpeg\", p=1.0),\n",
    " \n",
    "    # Blur step\n",
    "    #A.Blur(blur_limit=(7, 15), p=1.0),         #odd numbers only, 15+ more blur\n",
    " \n",
    " \n",
    "     # Default sun flare\n",
    "    #A.RandomSunFlare(p=1.0),  # set p=1.0 for always, or adjust probability\n",
    " \n",
    "    # Custom physics-based sun flare\n",
    "    A.RandomSunFlare(\n",
    "        flare_roi=(0.4, 0.4, 0.6, 0.6),  # center of the image\n",
    "        angle_range=(0.45, 0.55),        # roughly centered\n",
    "        num_flare_circles_range=(5, 15), # same, you can increase for more effect\n",
    "        src_radius=200,                   # adjust size if needed\n",
    "        src_color=(255, 255, 100),        # bright yellow\n",
    "        method=\"physics_based\",\n",
    "        p=1.0                             # always apply\n",
    "    ),\n",
    "    \n",
    " \n",
    "    # Random rain effect\n",
    "    A.RandomRain(\n",
    "        slant_range=(-1, 1),       # angle of rain\n",
    "        drop_length=15,              # length of drops\n",
    "        drop_width=20,                # width of drops\n",
    "        drop_color=(180, 180, 180),  # color of drops (grayish)\n",
    "        blur_value=5,                # motion blur\n",
    "        brightness_coefficient=0.8,  # darken slightly\n",
    "        rain_type=\"drizzle\",           # heavy rain\n",
    "        p=1.0\n",
    "    ),\n",
    " \n",
    "    # Sharpening step (kernel method)\n",
    "    A.Sharpen(\n",
    "        alpha=(1.0, 1.0),        # strength of sharpening (0.0, 1.0) 0 is original\n",
    "        lightness=(1.0, 1.0),    # overall brightness adjustment (0.0, 1.0) 1 is original\n",
    "        method='kernel',         # traditional sharpening\n",
    "        p=1.0                    \n",
    "    ),\n",
    " \n",
    " \n",
    "    # HSV step\n",
    "    A.HueSaturationValue(\n",
    "        hue_shift_limit=(-5, -5),           #(-180, 180)\n",
    "        sat_shift_limit=(-60, -60),         #(-255, 255)\n",
    "        val_shift_limit=(20, 20),           #(-255, 255)\n",
    "        p=1\n",
    "    )\n",
    "])\n",
    " "
   ]
  },
  {
   "cell_type": "code",
   "execution_count": null,
   "id": "710f2ca6",
   "metadata": {},
   "outputs": [],
   "source": [
    "idx_frame = 1000\n",
    "# Set the video path \n",
    "video_path = os.path.join(video_root, \"Camera4_stitched.mp4\")\n",
    "video_filename = os.path.splitext(os.path.basename(video_path))[0]\n",
    "\n",
    "image = get_image_from_video(video_path,idx_frame)\n",
    "# Apply transformations\n",
    "result = transform(image=image)\n",
    "augmented_image = result[\"image\"]\n",
    " \n",
    "show_image(image)\n",
    "\n",
    "show_image(augmented_image)\n",
    " "
   ]
  },
  {
   "cell_type": "markdown",
   "id": "ef111c5a",
   "metadata": {},
   "source": [
    "## Define a function to get an image from the video given frame index "
   ]
  },
  {
   "cell_type": "code",
   "execution_count": null,
   "id": "cbf36704",
   "metadata": {},
   "outputs": [],
   "source": [
    "import cv2 # make sure opencv is installed for this package\n",
    "import os \n",
    "import matplotlib.pyplot as plt \n",
    "from modules.image_utils import get_image_from_video, show_image, save_image\n",
    "\n",
    "# Set desired frame index ( The numbers that we used were 2560,5620,9555,12000,15000,20000. You can put the number if you want to see the frame)\n",
    "idx_frame = 9555\n",
    "\n",
    "# Set the video path \n",
    "video_path = r\"C:\\Users\\jiefei\\OneDrive1\\OneDrive\\UTMB\\teaching\\summer institute\\student projects\\2025\\Tom\\Green_Project_files\\video\\RAT 24 FR1.mp4\"\n",
    "video_filename = os.path.splitext(os.path.basename(video_path))[0]\n",
    "\n",
    "\n",
    "image = get_image_from_video(video_path,idx_frame)\n",
    "\n",
    "# file_path = f\"output/video_frame/img_{idx_frame}.png\"\n",
    "# save_image(file_path, image)\n",
    "\n",
    "print(f\"Video: {video_filename}; Frame {idx_frame}\")\n",
    "show_image(image)\n"
   ]
  },
  {
   "cell_type": "code",
   "execution_count": null,
   "id": "b377ca22",
   "metadata": {},
   "outputs": [],
   "source": []
  }
 ],
 "metadata": {
  "kernelspec": {
   "display_name": "base",
   "language": "python",
   "name": "python3"
  },
  "language_info": {
   "codemirror_mode": {
    "name": "ipython",
    "version": 3
   },
   "file_extension": ".py",
   "mimetype": "text/x-python",
   "name": "python",
   "nbconvert_exporter": "python",
   "pygments_lexer": "ipython3",
   "version": "3.11.7"
  }
 },
 "nbformat": 4,
 "nbformat_minor": 5
}
